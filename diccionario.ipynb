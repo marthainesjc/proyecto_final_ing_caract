{
 "cells": [
  {
   "cell_type": "markdown",
   "id": "649a2610",
   "metadata": {},
   "source": [
    "# Diccionario de Datos"
   ]
  },
  {
   "cell_type": "markdown",
   "id": "79f0a5b2",
   "metadata": {},
   "source": [
    "## Diccionario de datos para la base de datos percep_seguridad_crimenes.csv\n",
    "\n",
    "Nombre | Descripción | Unidad de medida|\n",
    "-------|--------------|----------\n",
    "Year| Indica la temporalidad de la información| Años\n",
    "State| Indica el nivel geográfico que posee la información| Nivel Estatal\n",
    "conf_policia| Indica porcentaje de confianza en la policía| Porcentaje\n",
    "percep_ausencia_corrupcion_sistjud| Percepción de ausencia de corrupción en el sistema judicial| Porcentaje\n",
    "percep_conf_jueces| Percepción de confianza en los jueces| Porcentaje\n",
    "percep_inseguridad| Percepción de la inseguridad| Porcentaje\n",
    "iden_polfed_efectivo| Personas de 18 años y más que identifican a la Policía Federal y consideran algo efectivo o muy efectivo el trabajo de la Policía Federal| Personas\n",
    "porcentaje_victimas_hogares| Porcentaje de hogares víctimas del delito| Porcentaje\n",
    "porcentaje_victimas_mujeres| Porcentaje de mujeres víctimas de por lo menos un delito| Porcentaje\n",
    "tasa_incid_delictiva| Tasa de incidencia delictiva | Casos por cada 100 mil habitantes de 18 años y más\n",
    "tasa_inseg_localidad| Tasa de personas que considera insegura su colonia o localidad| Casos por cada 100 mil habitantes de 18 años y más\n",
    "tasa_inseg_estado| Tasa de personas de que considera insegura su entidad federativa| Casos por cada 100 mil habitantes de 18 años y más\n",
    "tasa_inseg_municipio| Tasa de personas que considera inseguro su municipio o delegación| Casos por cada 100 mil habitantes de 18 años y más\n",
    "tasa_prev_delictiva| Tasa de prevalencia delictiva| Casos por cada 100 mil habitantes de 18 años y más\n",
    "tasa_prev_delictiva_hombres| Tasa de prevalencia delictiva en hombres| Casos por cada 100 mil habitantes de 18 años y más\n",
    "tasa_prev_delictiva_mujeres| Tasa de prevalencia delictiva en mujeres| Casos por cada 100 mil habitantes de 18 años y más\n",
    "Number_crimes| Indica la cantidad de crímenes| Números enteros"
   ]
  },
  {
   "cell_type": "markdown",
   "id": "5609d9bc",
   "metadata": {},
   "source": [
    "## Diccionario de datos para la base de datos percep_seguridad_crimenes_tidy.csv\n",
    "\n",
    "#### Para la variable `States`\n",
    "\n",
    "Número | Estado \n",
    "-------|--------------\n",
    "0| Aguascalientes \n",
    "1| Baja California\n",
    "2| Baja California Sur\n",
    "3| Campeche\n",
    "4| Chiapas\n",
    "5| Chihuahua\n",
    "6| Ciudad de México\n",
    "7| Coahuila de Zaragoza\n",
    "8| Colima\n",
    "9| Durango\n",
    "10| Guanajuato,\n",
    "11| Guerrero\n",
    "12| Hidalgo\n",
    "13| Jalisco\n",
    "14| Michoacán de Ocampo\n",
    "15| Morelos\n",
    "16| Nayarit,\n",
    "17| Nuevo León\n",
    "18| Oaxaca\n",
    "19| Puebla\n",
    "20| Querétaro\n",
    "21| Quintana Roo\n",
    "22| San Luis Potosí\n",
    "23| Sinaloa\n",
    "24| Sonora\n",
    "25| Tabasco\n",
    "26| Tamaulipas\n",
    "27| Tlaxcala\n",
    "28| Veracruz de Ignacio de la Llave\n",
    "29| Yucatán\n",
    "30| Zacatecas\n",
    "\n",
    "#### Para la variable `Regiones`\n",
    "\n",
    "Número | Regiones \n",
    "-------|--------------\n",
    "0| Centronorte\n",
    "1| Centrosur\n",
    "2| Noreste\n",
    "3| Noroeste\n",
    "4| Oeste\n",
    "5| Oriente,\n",
    "6| Sureste\n",
    "7| Suroeste\n"
   ]
  }
 ],
 "metadata": {
  "kernelspec": {
   "display_name": "Python 3",
   "language": "python",
   "name": "python3"
  },
  "language_info": {
   "codemirror_mode": {
    "name": "ipython",
    "version": 3
   },
   "file_extension": ".py",
   "mimetype": "text/x-python",
   "name": "python",
   "nbconvert_exporter": "python",
   "pygments_lexer": "ipython3",
   "version": "3.8.8"
  }
 },
 "nbformat": 4,
 "nbformat_minor": 5
}
